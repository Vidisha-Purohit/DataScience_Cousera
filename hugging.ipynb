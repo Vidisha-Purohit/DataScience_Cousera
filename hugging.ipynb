{
 "cells": [
  {
   "cell_type": "code",
   "execution_count": 1,
   "id": "ba8efc69",
   "metadata": {},
   "outputs": [
    {
     "name": "stdout",
     "output_type": "stream",
     "text": [
      "Requirement already satisfied: sentence-transformers in /Users/vidishapurohit/anaconda3/lib/python3.11/site-packages (2.3.1)\n",
      "Requirement already satisfied: transformers<5.0.0,>=4.32.0 in /Users/vidishapurohit/anaconda3/lib/python3.11/site-packages (from sentence-transformers) (4.37.2)\n",
      "Requirement already satisfied: tqdm in /Users/vidishapurohit/anaconda3/lib/python3.11/site-packages (from sentence-transformers) (4.65.0)\n",
      "Requirement already satisfied: torch>=1.11.0 in /Users/vidishapurohit/anaconda3/lib/python3.11/site-packages (from sentence-transformers) (2.0.1)\n",
      "Requirement already satisfied: numpy in /Users/vidishapurohit/anaconda3/lib/python3.11/site-packages (from sentence-transformers) (1.24.3)\n",
      "Requirement already satisfied: scikit-learn in /Users/vidishapurohit/anaconda3/lib/python3.11/site-packages (from sentence-transformers) (1.4.0)\n",
      "Requirement already satisfied: scipy in /Users/vidishapurohit/anaconda3/lib/python3.11/site-packages (from sentence-transformers) (1.10.1)\n",
      "Requirement already satisfied: nltk in /Users/vidishapurohit/anaconda3/lib/python3.11/site-packages (from sentence-transformers) (3.8.1)\n",
      "Requirement already satisfied: sentencepiece in /Users/vidishapurohit/anaconda3/lib/python3.11/site-packages (from sentence-transformers) (0.1.99)\n",
      "Requirement already satisfied: huggingface-hub>=0.15.1 in /Users/vidishapurohit/anaconda3/lib/python3.11/site-packages (from sentence-transformers) (0.20.3)\n",
      "Requirement already satisfied: Pillow in /Users/vidishapurohit/anaconda3/lib/python3.11/site-packages (from sentence-transformers) (10.0.1)\n",
      "Requirement already satisfied: filelock in /Users/vidishapurohit/anaconda3/lib/python3.11/site-packages (from huggingface-hub>=0.15.1->sentence-transformers) (3.9.0)\n",
      "Requirement already satisfied: fsspec>=2023.5.0 in /Users/vidishapurohit/anaconda3/lib/python3.11/site-packages (from huggingface-hub>=0.15.1->sentence-transformers) (2023.12.2)\n",
      "Requirement already satisfied: requests in /Users/vidishapurohit/anaconda3/lib/python3.11/site-packages (from huggingface-hub>=0.15.1->sentence-transformers) (2.31.0)\n",
      "Requirement already satisfied: pyyaml>=5.1 in /Users/vidishapurohit/anaconda3/lib/python3.11/site-packages (from huggingface-hub>=0.15.1->sentence-transformers) (6.0)\n",
      "Requirement already satisfied: typing-extensions>=3.7.4.3 in /Users/vidishapurohit/anaconda3/lib/python3.11/site-packages (from huggingface-hub>=0.15.1->sentence-transformers) (4.7.1)\n",
      "Requirement already satisfied: packaging>=20.9 in /Users/vidishapurohit/anaconda3/lib/python3.11/site-packages (from huggingface-hub>=0.15.1->sentence-transformers) (23.0)\n",
      "Requirement already satisfied: sympy in /Users/vidishapurohit/anaconda3/lib/python3.11/site-packages (from torch>=1.11.0->sentence-transformers) (1.11.1)\n",
      "Requirement already satisfied: networkx in /Users/vidishapurohit/anaconda3/lib/python3.11/site-packages (from torch>=1.11.0->sentence-transformers) (3.1)\n",
      "Requirement already satisfied: jinja2 in /Users/vidishapurohit/anaconda3/lib/python3.11/site-packages (from torch>=1.11.0->sentence-transformers) (3.1.2)\n",
      "Requirement already satisfied: regex!=2019.12.17 in /Users/vidishapurohit/anaconda3/lib/python3.11/site-packages (from transformers<5.0.0,>=4.32.0->sentence-transformers) (2022.7.9)\n",
      "Requirement already satisfied: tokenizers<0.19,>=0.14 in /Users/vidishapurohit/anaconda3/lib/python3.11/site-packages (from transformers<5.0.0,>=4.32.0->sentence-transformers) (0.15.1)\n",
      "Requirement already satisfied: safetensors>=0.4.1 in /Users/vidishapurohit/anaconda3/lib/python3.11/site-packages (from transformers<5.0.0,>=4.32.0->sentence-transformers) (0.4.2)\n",
      "Requirement already satisfied: click in /Users/vidishapurohit/anaconda3/lib/python3.11/site-packages (from nltk->sentence-transformers) (8.0.4)\n",
      "Requirement already satisfied: joblib in /Users/vidishapurohit/anaconda3/lib/python3.11/site-packages (from nltk->sentence-transformers) (1.2.0)\n",
      "Requirement already satisfied: threadpoolctl>=2.0.0 in /Users/vidishapurohit/anaconda3/lib/python3.11/site-packages (from scikit-learn->sentence-transformers) (2.2.0)\n",
      "Requirement already satisfied: MarkupSafe>=2.0 in /Users/vidishapurohit/anaconda3/lib/python3.11/site-packages (from jinja2->torch>=1.11.0->sentence-transformers) (2.1.1)\n",
      "Requirement already satisfied: charset-normalizer<4,>=2 in /Users/vidishapurohit/anaconda3/lib/python3.11/site-packages (from requests->huggingface-hub>=0.15.1->sentence-transformers) (2.0.4)\n",
      "Requirement already satisfied: idna<4,>=2.5 in /Users/vidishapurohit/anaconda3/lib/python3.11/site-packages (from requests->huggingface-hub>=0.15.1->sentence-transformers) (3.4)\n",
      "Requirement already satisfied: urllib3<3,>=1.21.1 in /Users/vidishapurohit/anaconda3/lib/python3.11/site-packages (from requests->huggingface-hub>=0.15.1->sentence-transformers) (1.26.16)\n",
      "Requirement already satisfied: certifi>=2017.4.17 in /Users/vidishapurohit/anaconda3/lib/python3.11/site-packages (from requests->huggingface-hub>=0.15.1->sentence-transformers) (2023.11.17)\n",
      "Requirement already satisfied: mpmath>=0.19 in /Users/vidishapurohit/anaconda3/lib/python3.11/site-packages (from sympy->torch>=1.11.0->sentence-transformers) (1.3.0)\n",
      "Note: you may need to restart the kernel to use updated packages.\n"
     ]
    }
   ],
   "source": [
    "pip install sentence-transformers"
   ]
  },
  {
   "cell_type": "code",
   "execution_count": 2,
   "id": "ca1288ce",
   "metadata": {},
   "outputs": [],
   "source": [
    "import torch\n",
    "import numpy as np\n",
    "\n",
    "from transformers import AutoModel, AutoTokenizer\n",
    "from sentence_transformers import SentenceTransformer  # Import from the correct library\n",
    "from scipy.spatial.distance import cosine\n",
    "\n",
    "from topsis import topsis\n"
   ]
  },
  {
   "cell_type": "code",
   "execution_count": 8,
   "id": "4eb24edd",
   "metadata": {},
   "outputs": [],
   "source": [
    "models = [\"BAAI/bge-m3\", \"intfloat/e5-large-v2\", \n",
    "          \"sentence-transformers/all-MiniLM-L6-v2\", \"sentence-transformers/all-mpnet-base-v2\"]\n",
    "\n",
    "tokenizers = [AutoTokenizer.from_pretrained(model) for model in models]\n",
    "models = [AutoModel.from_pretrained(model) for model in models]\n"
   ]
  },
  {
   "cell_type": "code",
   "execution_count": 9,
   "id": "2b4884f0",
   "metadata": {},
   "outputs": [],
   "source": [
    "sentence1 = \"This is a sentence about machine learning.\"\n",
    "sentence2 = \"This sentence discusses artificial intelligence.\"\n"
   ]
  },
  {
   "cell_type": "code",
   "execution_count": 10,
   "id": "9f749490",
   "metadata": {},
   "outputs": [],
   "source": [
    "embeddings = []\n",
    "for tokenizer, model in zip(tokenizers, models):\n",
    "    input_ids = tokenizer.encode(sentence1, sentence2, return_tensors=\"pt\")\n",
    "    with torch.no_grad():\n",
    "        output = model(input_ids)\n",
    "    embeddings.append(output.pooler_output)"
   ]
  },
  {
   "cell_type": "code",
   "execution_count": 11,
   "id": "c1e4a193",
   "metadata": {},
   "outputs": [],
   "source": [
    "from sklearn.metrics.pairwise import cosine_similarity"
   ]
  },
  {
   "cell_type": "code",
   "execution_count": 7,
   "id": "e3ab3a54",
   "metadata": {},
   "outputs": [
    {
     "ename": "RuntimeError",
     "evalue": "The size of tensor a (1024) must match the size of tensor b (384) at non-singleton dimension 1",
     "output_type": "error",
     "traceback": [
      "\u001b[0;31m---------------------------------------------------------------------------\u001b[0m",
      "\u001b[0;31mRuntimeError\u001b[0m                              Traceback (most recent call last)",
      "Cell \u001b[0;32mIn[7], line 3\u001b[0m\n\u001b[1;32m      1\u001b[0m similarities \u001b[38;5;241m=\u001b[39m []\n\u001b[1;32m      2\u001b[0m \u001b[38;5;28;01mfor\u001b[39;00m i \u001b[38;5;129;01min\u001b[39;00m \u001b[38;5;28mrange\u001b[39m(\u001b[38;5;28mlen\u001b[39m(embeddings) \u001b[38;5;241m-\u001b[39m \u001b[38;5;241m1\u001b[39m):\n\u001b[0;32m----> 3\u001b[0m     sim \u001b[38;5;241m=\u001b[39m \u001b[38;5;241m1\u001b[39m \u001b[38;5;241m-\u001b[39m torch\u001b[38;5;241m.\u001b[39mcosine_similarity(embeddings[i], embeddings[i\u001b[38;5;241m+\u001b[39m\u001b[38;5;241m1\u001b[39m], dim\u001b[38;5;241m=\u001b[39m\u001b[38;5;241m-\u001b[39m\u001b[38;5;241m1\u001b[39m)\n\u001b[1;32m      4\u001b[0m     similarities\u001b[38;5;241m.\u001b[39mappend(sim)\n\u001b[1;32m      5\u001b[0m \u001b[38;5;28;01mif\u001b[39;00m \u001b[38;5;28mlen\u001b[39m(embeddings) \u001b[38;5;241m>\u001b[39m \u001b[38;5;241m1\u001b[39m:\n",
      "\u001b[0;31mRuntimeError\u001b[0m: The size of tensor a (1024) must match the size of tensor b (384) at non-singleton dimension 1"
     ]
    }
   ],
   "source": [
    "similarities = []\n",
    "for i in range(len(embeddings) - 1):\n",
    "    sim = 1 - torch.cosine_similarity(embeddings[i], embeddings[i+1], dim=-1)\n",
    "    similarities.append(sim)\n",
    "if len(embeddings) > 1:\n",
    "    similarities = 1 - torch.cosine_similarity(embeddings[0], torch.cat(embeddings[1:]), dim=-1)"
   ]
  },
  {
   "cell_type": "code",
   "execution_count": 12,
   "id": "46a69197",
   "metadata": {},
   "outputs": [],
   "source": [
    "criteria = [\"accuracy\", \"speed\", \"memory_usage\"]  # Replace with your actual criteria\n",
    "weights = [0.4, 0.3, 0.3]  # Adjust weights as needed\n",
    "ideal_best = [1, 1, 1]  # Assuming higher values are better for all criteria\n",
    "ideal_worst = [0, 0, 0]"
   ]
  },
  {
   "cell_type": "code",
   "execution_count": 13,
   "id": "25247a2c",
   "metadata": {},
   "outputs": [
    {
     "ename": "TypeError",
     "evalue": "'module' object is not callable",
     "output_type": "error",
     "traceback": [
      "\u001b[0;31m---------------------------------------------------------------------------\u001b[0m",
      "\u001b[0;31mTypeError\u001b[0m                                 Traceback (most recent call last)",
      "Cell \u001b[0;32mIn[13], line 4\u001b[0m\n\u001b[1;32m      1\u001b[0m decision_matrix \u001b[38;5;241m=\u001b[39m [\n\u001b[1;32m      2\u001b[0m     [model_name] \u001b[38;5;241m+\u001b[39m \u001b[38;5;28mlist\u001b[39m(sim) \u001b[38;5;28;01mfor\u001b[39;00m model_name, sim \u001b[38;5;129;01min\u001b[39;00m \u001b[38;5;28mzip\u001b[39m(models[\u001b[38;5;241m1\u001b[39m:], similarities)\n\u001b[1;32m      3\u001b[0m ]\n\u001b[0;32m----> 4\u001b[0m results \u001b[38;5;241m=\u001b[39m topsis(decision_matrix, weights, ideal_best, ideal_worst)\n\u001b[1;32m      5\u001b[0m best_model_index \u001b[38;5;241m=\u001b[39m results[\u001b[38;5;124m\"\u001b[39m\u001b[38;5;124mrank\u001b[39m\u001b[38;5;124m\"\u001b[39m]\u001b[38;5;241m.\u001b[39mindex(\u001b[38;5;241m1\u001b[39m)\n\u001b[1;32m      6\u001b[0m best_model \u001b[38;5;241m=\u001b[39m models[best_model_index \u001b[38;5;241m+\u001b[39m \u001b[38;5;241m1\u001b[39m]\n",
      "\u001b[0;31mTypeError\u001b[0m: 'module' object is not callable"
     ]
    }
   ],
   "source": [
    "decision_matrix = [\n",
    "    [model_name] + list(sim) for model_name, sim in zip(models[1:], similarities)\n",
    "]\n",
    "results = topsis(decision_matrix, weights, ideal_best, ideal_worst)\n",
    "best_model_index = results[\"rank\"].index(1)\n",
    "best_model = models[best_model_index + 1]"
   ]
  },
  {
   "cell_type": "code",
   "execution_count": null,
   "id": "ce2da178",
   "metadata": {},
   "outputs": [],
   "source": [
    "print(\"Best model:\", best_model)"
   ]
  }
 ],
 "metadata": {
  "kernelspec": {
   "display_name": "Python 3 (ipykernel)",
   "language": "python",
   "name": "python3"
  },
  "language_info": {
   "codemirror_mode": {
    "name": "ipython",
    "version": 3
   },
   "file_extension": ".py",
   "mimetype": "text/x-python",
   "name": "python",
   "nbconvert_exporter": "python",
   "pygments_lexer": "ipython3",
   "version": "3.11.4"
  }
 },
 "nbformat": 4,
 "nbformat_minor": 5
}
